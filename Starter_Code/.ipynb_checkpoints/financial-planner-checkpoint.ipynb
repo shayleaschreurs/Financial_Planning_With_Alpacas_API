{
 "cells": [
  {
   "cell_type": "markdown",
   "metadata": {},
   "source": [
    "# Unit 5 - Financial Planning"
   ]
  },
  {
   "cell_type": "code",
   "execution_count": 1,
   "metadata": {},
   "outputs": [],
   "source": [
    "# Initial imports\n",
    "import os\n",
    "import requests\n",
    "import pandas as pd\n",
    "from dotenv import load_dotenv\n",
    "import alpaca_trade_api as tradeapi\n",
    "from MCForecastTools import MCSimulation\n",
    "import json\n",
    "%matplotlib inline"
   ]
  },
  {
   "cell_type": "code",
   "execution_count": 2,
   "metadata": {},
   "outputs": [
    {
     "data": {
      "text/plain": [
       "True"
      ]
     },
     "execution_count": 2,
     "metadata": {},
     "output_type": "execute_result"
    }
   ],
   "source": [
    "# Load .env enviroment variables\n",
    "load_dotenv()"
   ]
  },
  {
   "cell_type": "markdown",
   "metadata": {},
   "source": [
    "## Part 1 - Personal Finance Planner"
   ]
  },
  {
   "cell_type": "markdown",
   "metadata": {},
   "source": [
    "### Collect Crypto Prices Using the `requests` Library"
   ]
  },
  {
   "cell_type": "code",
   "execution_count": 3,
   "metadata": {},
   "outputs": [],
   "source": [
    "# Set current amount of crypto assets\n",
    "monthly_income = 12000\n",
    "my_btc = 1.2\n",
    "my_eth =5.3"
   ]
  },
  {
   "cell_type": "code",
   "execution_count": 4,
   "metadata": {},
   "outputs": [],
   "source": [
    "# Crypto API URLs\n",
    "btc_url = \"https://api.alternative.me/v2/ticker/Bitcoin/?convert=USD\"\n",
    "eth_url = \"https://api.alternative.me/v2/ticker/Ethereum/?convert=USD\""
   ]
  },
  {
   "cell_type": "code",
   "execution_count": 5,
   "metadata": {},
   "outputs": [
    {
     "name": "stdout",
     "output_type": "stream",
     "text": [
      "{\n",
      "    \"data\": {\n",
      "        \"1\": {\n",
      "            \"id\": 1,\n",
      "            \"name\": \"Bitcoin\",\n",
      "            \"symbol\": \"BTC\",\n",
      "            \"website_slug\": \"bitcoin\",\n",
      "            \"rank\": 1,\n",
      "            \"circulating_supply\": 19115343,\n",
      "            \"total_supply\": 19115343,\n",
      "            \"max_supply\": 21000000,\n",
      "            \"quotes\": {\n",
      "                \"USD\": {\n",
      "                    \"price\": 23263.0,\n",
      "                    \"volume_24h\": 14337952777,\n",
      "                    \"market_cap\": 444857523330,\n",
      "                    \"percentage_change_1h\": -0.274705923044914,\n",
      "                    \"percentage_change_24h\": 0.287663577175854,\n",
      "                    \"percentage_change_7d\": -1.65120059616837,\n",
      "                    \"percent_change_1h\": -0.274705923044914,\n",
      "                    \"percent_change_24h\": 0.287663577175854,\n",
      "                    \"percent_change_7d\": -1.65120059616837\n",
      "                }\n",
      "            },\n",
      "            \"last_updated\": 1659913190\n",
      "        }\n",
      "    },\n",
      "    \"metadata\": {\n",
      "        \"timestamp\": 1659913190,\n",
      "        \"num_cryptocurrencies\": 3116,\n",
      "        \"error\": null\n",
      "    }\n",
      "}\n"
     ]
    }
   ],
   "source": [
    "# Fetch current BTC price\n",
    "btc_price = requests.get(btc_url).json()\n",
    "print(json.dumps(btc_price, indent =4))"
   ]
  },
  {
   "cell_type": "code",
   "execution_count": 6,
   "metadata": {},
   "outputs": [
    {
     "data": {
      "text/plain": [
       "23263.0"
      ]
     },
     "execution_count": 6,
     "metadata": {},
     "output_type": "execute_result"
    }
   ],
   "source": [
    "btc_price = btc_price['data']['1']['quotes']['USD']['price']\n",
    "btc_price"
   ]
  },
  {
   "cell_type": "code",
   "execution_count": 7,
   "metadata": {},
   "outputs": [
    {
     "name": "stdout",
     "output_type": "stream",
     "text": [
      "{\n",
      "    \"data\": {\n",
      "        \"1027\": {\n",
      "            \"id\": 1027,\n",
      "            \"name\": \"Ethereum\",\n",
      "            \"symbol\": \"ETH\",\n",
      "            \"website_slug\": \"ethereum\",\n",
      "            \"rank\": 2,\n",
      "            \"circulating_supply\": 120005126,\n",
      "            \"total_supply\": 120005126,\n",
      "            \"max_supply\": 120005126,\n",
      "            \"quotes\": {\n",
      "                \"USD\": {\n",
      "                    \"price\": 1705.1,\n",
      "                    \"volume_24h\": 9540371832,\n",
      "                    \"market_cap\": 204907120402,\n",
      "                    \"percentage_change_1h\": -0.754857876531323,\n",
      "                    \"percentage_change_24h\": -0.617685887171548,\n",
      "                    \"percentage_change_7d\": 0.490167196887666,\n",
      "                    \"percent_change_1h\": -0.754857876531323,\n",
      "                    \"percent_change_24h\": -0.617685887171548,\n",
      "                    \"percent_change_7d\": 0.490167196887666\n",
      "                }\n",
      "            },\n",
      "            \"last_updated\": 1659913203\n",
      "        }\n",
      "    },\n",
      "    \"metadata\": {\n",
      "        \"timestamp\": 1659913203,\n",
      "        \"num_cryptocurrencies\": 3116,\n",
      "        \"error\": null\n",
      "    }\n",
      "}\n"
     ]
    }
   ],
   "source": [
    "# Fetch current ETH price\n",
    "eth_price = requests.get(eth_url).json()\n",
    "print(json.dumps(eth_price, indent =4))"
   ]
  },
  {
   "cell_type": "code",
   "execution_count": 8,
   "metadata": {},
   "outputs": [
    {
     "data": {
      "text/plain": [
       "1705.1"
      ]
     },
     "execution_count": 8,
     "metadata": {},
     "output_type": "execute_result"
    }
   ],
   "source": [
    "eth_price = eth_price['data']['1027']['quotes']['USD']['price']\n",
    "eth_price"
   ]
  },
  {
   "cell_type": "code",
   "execution_count": 9,
   "metadata": {},
   "outputs": [
    {
     "data": {
      "text/plain": [
       "27915.6"
      ]
     },
     "execution_count": 9,
     "metadata": {},
     "output_type": "execute_result"
    }
   ],
   "source": [
    "# Compute current value of my btc\n",
    "my_btc_value = my_btc*btc_price\n",
    "my_btc_value"
   ]
  },
  {
   "cell_type": "code",
   "execution_count": 10,
   "metadata": {},
   "outputs": [
    {
     "data": {
      "text/plain": [
       "9037.029999999999"
      ]
     },
     "execution_count": 10,
     "metadata": {},
     "output_type": "execute_result"
    }
   ],
   "source": [
    "# Compute current value of my eth\n",
    "my_eth_value = my_eth*eth_price\n",
    "my_eth_value"
   ]
  },
  {
   "cell_type": "code",
   "execution_count": 11,
   "metadata": {},
   "outputs": [
    {
     "name": "stdout",
     "output_type": "stream",
     "text": [
      "The current value of your 1.2 BTC is $27915.60\n",
      "The current value of your 5.3 ETH is $9037.03\n"
     ]
    }
   ],
   "source": [
    "# Print current crypto wallet balance\n",
    "print(f\"The current value of your {my_btc} BTC is ${my_btc_value:0.2f}\")\n",
    "print(f\"The current value of your {my_eth} ETH is ${my_eth_value:0.2f}\")"
   ]
  },
  {
   "cell_type": "markdown",
   "metadata": {},
   "source": [
    "### Collect Investments Data Using Alpaca: `SPY` (stocks) and `AGG` (bonds)"
   ]
  },
  {
   "cell_type": "code",
   "execution_count": 12,
   "metadata": {},
   "outputs": [],
   "source": [
    "# Set current amount of shares\n",
    "my_agg = 200\n",
    "my_spy = 50"
   ]
  },
  {
   "cell_type": "code",
   "execution_count": 13,
   "metadata": {},
   "outputs": [],
   "source": [
    "# Set Alpaca API key and secret\n",
    "alpaca_api_key = os.getenv(\"ALPACA_API_KEY\")\n",
    "alpaca_secret_key = os.getenv(\"ALPACA_SECRET_KEY\")\n",
    "# Create the Alpaca API object\n",
    "api = tradeapi.REST(\n",
    "    alpaca_api_key,\n",
    "    alpaca_secret_key,\n",
    "    api_version = \"v2\"\n",
    ")"
   ]
  },
  {
   "cell_type": "code",
   "execution_count": 14,
   "metadata": {},
   "outputs": [
    {
     "data": {
      "text/html": [
       "<div>\n",
       "<style scoped>\n",
       "    .dataframe tbody tr th:only-of-type {\n",
       "        vertical-align: middle;\n",
       "    }\n",
       "\n",
       "    .dataframe tbody tr th {\n",
       "        vertical-align: top;\n",
       "    }\n",
       "\n",
       "    .dataframe thead th {\n",
       "        text-align: right;\n",
       "    }\n",
       "</style>\n",
       "<table border=\"1\" class=\"dataframe\">\n",
       "  <thead>\n",
       "    <tr style=\"text-align: right;\">\n",
       "      <th></th>\n",
       "      <th>open</th>\n",
       "      <th>high</th>\n",
       "      <th>low</th>\n",
       "      <th>close</th>\n",
       "      <th>volume</th>\n",
       "      <th>trade_count</th>\n",
       "      <th>vwap</th>\n",
       "      <th>symbol</th>\n",
       "    </tr>\n",
       "    <tr>\n",
       "      <th>timestamp</th>\n",
       "      <th></th>\n",
       "      <th></th>\n",
       "      <th></th>\n",
       "      <th></th>\n",
       "      <th></th>\n",
       "      <th></th>\n",
       "      <th></th>\n",
       "      <th></th>\n",
       "    </tr>\n",
       "  </thead>\n",
       "  <tbody>\n",
       "    <tr>\n",
       "      <th>2022-07-05 04:00:00+00:00</th>\n",
       "      <td>102.54</td>\n",
       "      <td>102.7043</td>\n",
       "      <td>102.3465</td>\n",
       "      <td>102.53</td>\n",
       "      <td>6812884</td>\n",
       "      <td>27462</td>\n",
       "      <td>102.550765</td>\n",
       "      <td>AGG</td>\n",
       "    </tr>\n",
       "    <tr>\n",
       "      <th>2022-07-05 04:00:00+00:00</th>\n",
       "      <td>376.00</td>\n",
       "      <td>381.9800</td>\n",
       "      <td>372.9000</td>\n",
       "      <td>381.96</td>\n",
       "      <td>79886359</td>\n",
       "      <td>645355</td>\n",
       "      <td>377.447571</td>\n",
       "      <td>SPY</td>\n",
       "    </tr>\n",
       "  </tbody>\n",
       "</table>\n",
       "</div>"
      ],
      "text/plain": [
       "                             open      high       low   close    volume  \\\n",
       "timestamp                                                                 \n",
       "2022-07-05 04:00:00+00:00  102.54  102.7043  102.3465  102.53   6812884   \n",
       "2022-07-05 04:00:00+00:00  376.00  381.9800  372.9000  381.96  79886359   \n",
       "\n",
       "                           trade_count        vwap symbol  \n",
       "timestamp                                                  \n",
       "2022-07-05 04:00:00+00:00        27462  102.550765    AGG  \n",
       "2022-07-05 04:00:00+00:00       645355  377.447571    SPY  "
      ]
     },
     "execution_count": 14,
     "metadata": {},
     "output_type": "execute_result"
    }
   ],
   "source": [
    "# Format current date as ISO format\n",
    "start_date = pd.Timestamp(\"2022-07-05\", tz=\"America/New_York\").isoformat()\n",
    "end_date = pd.Timestamp(\"2022-07-05\", tz=\"America/New_York\").isoformat()\n",
    "\n",
    "# Set the tickers\n",
    "tickers = [\"AGG\", \"SPY\"]\n",
    "\n",
    "# Set timeframe to \"1Day\" for Alpaca API\n",
    "timeframe = \"1Day\"\n",
    "\n",
    "# Get current closing prices for SPY and AGG\n",
    "df_ticker = api.get_bars(\n",
    "    tickers,\n",
    "    timeframe,\n",
    "    start=start_date,\n",
    "    end=end_date\n",
    ").df\n",
    "df_ticker.head()"
   ]
  },
  {
   "cell_type": "code",
   "execution_count": 15,
   "metadata": {},
   "outputs": [
    {
     "data": {
      "text/html": [
       "<div>\n",
       "<style scoped>\n",
       "    .dataframe tbody tr th:only-of-type {\n",
       "        vertical-align: middle;\n",
       "    }\n",
       "\n",
       "    .dataframe tbody tr th {\n",
       "        vertical-align: top;\n",
       "    }\n",
       "\n",
       "    .dataframe thead tr th {\n",
       "        text-align: left;\n",
       "    }\n",
       "\n",
       "    .dataframe thead tr:last-of-type th {\n",
       "        text-align: right;\n",
       "    }\n",
       "</style>\n",
       "<table border=\"1\" class=\"dataframe\">\n",
       "  <thead>\n",
       "    <tr>\n",
       "      <th></th>\n",
       "      <th colspan=\"7\" halign=\"left\">AGG</th>\n",
       "      <th colspan=\"7\" halign=\"left\">SPY</th>\n",
       "    </tr>\n",
       "    <tr>\n",
       "      <th></th>\n",
       "      <th>open</th>\n",
       "      <th>high</th>\n",
       "      <th>low</th>\n",
       "      <th>close</th>\n",
       "      <th>volume</th>\n",
       "      <th>trade_count</th>\n",
       "      <th>vwap</th>\n",
       "      <th>open</th>\n",
       "      <th>high</th>\n",
       "      <th>low</th>\n",
       "      <th>close</th>\n",
       "      <th>volume</th>\n",
       "      <th>trade_count</th>\n",
       "      <th>vwap</th>\n",
       "    </tr>\n",
       "    <tr>\n",
       "      <th>timestamp</th>\n",
       "      <th></th>\n",
       "      <th></th>\n",
       "      <th></th>\n",
       "      <th></th>\n",
       "      <th></th>\n",
       "      <th></th>\n",
       "      <th></th>\n",
       "      <th></th>\n",
       "      <th></th>\n",
       "      <th></th>\n",
       "      <th></th>\n",
       "      <th></th>\n",
       "      <th></th>\n",
       "      <th></th>\n",
       "    </tr>\n",
       "  </thead>\n",
       "  <tbody>\n",
       "    <tr>\n",
       "      <th>2022-07-05 04:00:00+00:00</th>\n",
       "      <td>102.54</td>\n",
       "      <td>102.7043</td>\n",
       "      <td>102.3465</td>\n",
       "      <td>102.53</td>\n",
       "      <td>6812884</td>\n",
       "      <td>27462</td>\n",
       "      <td>102.550765</td>\n",
       "      <td>376.0</td>\n",
       "      <td>381.98</td>\n",
       "      <td>372.9</td>\n",
       "      <td>381.96</td>\n",
       "      <td>79886359</td>\n",
       "      <td>645355</td>\n",
       "      <td>377.447571</td>\n",
       "    </tr>\n",
       "  </tbody>\n",
       "</table>\n",
       "</div>"
      ],
      "text/plain": [
       "                              AGG                                       \\\n",
       "                             open      high       low   close   volume   \n",
       "timestamp                                                                \n",
       "2022-07-05 04:00:00+00:00  102.54  102.7043  102.3465  102.53  6812884   \n",
       "\n",
       "                                                     SPY                 \\\n",
       "                          trade_count        vwap   open    high    low   \n",
       "timestamp                                                                 \n",
       "2022-07-05 04:00:00+00:00       27462  102.550765  376.0  381.98  372.9   \n",
       "\n",
       "                                                                     \n",
       "                            close    volume trade_count        vwap  \n",
       "timestamp                                                            \n",
       "2022-07-05 04:00:00+00:00  381.96  79886359      645355  377.447571  "
      ]
     },
     "execution_count": 15,
     "metadata": {},
     "output_type": "execute_result"
    }
   ],
   "source": [
    "# Reorganize the DataFrame\n",
    "# Separate ticker data\n",
    "AGG = df_ticker[df_ticker['symbol']=='AGG'].drop('symbol', axis=1)\n",
    "SPY = df_ticker[df_ticker['symbol']=='SPY'].drop('symbol', axis=1)\n",
    "\n",
    "\n",
    "# Concatenate the ticker DataFrames\n",
    "df_ticker = pd.concat([AGG,SPY], axis=1, keys=[\"AGG\", \"SPY\"])\n",
    "# Preview DataFrame\n",
    "df_ticker.head()"
   ]
  },
  {
   "cell_type": "code",
   "execution_count": 16,
   "metadata": {},
   "outputs": [
    {
     "name": "stdout",
     "output_type": "stream",
     "text": [
      "Current AGG closing price: $102.53\n",
      "Current SPY closing price: $381.96\n"
     ]
    }
   ],
   "source": [
    "# Pick AGG and SPY close prices\n",
    "agg_close_price = float(df_ticker[\"AGG\", \"close\"])\n",
    "spy_close_price = float(df_ticker[\"SPY\", \"close\"])\n",
    "# Print AGG and SPY close prices\n",
    "print(f\"Current AGG closing price: ${agg_close_price}\")\n",
    "print(f\"Current SPY closing price: ${spy_close_price}\")"
   ]
  },
  {
   "cell_type": "code",
   "execution_count": 17,
   "metadata": {},
   "outputs": [
    {
     "name": "stdout",
     "output_type": "stream",
     "text": [
      "The current value of your 50 SPY shares is $19098.00\n",
      "The current value of your 200 AGG shares is $20506.00\n"
     ]
    }
   ],
   "source": [
    "# Compute the current value of shares\n",
    "my_spy_value = my_spy*spy_close_price\n",
    "my_agg_value = my_agg*agg_close_price\n",
    "# Print current value of shares\n",
    "print(f\"The current value of your {my_spy} SPY shares is ${my_spy_value:0.2f}\")\n",
    "print(f\"The current value of your {my_agg} AGG shares is ${my_agg_value:0.2f}\")"
   ]
  },
  {
   "cell_type": "markdown",
   "metadata": {},
   "source": [
    "### Savings Health Analysis"
   ]
  },
  {
   "cell_type": "code",
   "execution_count": 73,
   "metadata": {},
   "outputs": [
    {
     "name": "stdout",
     "output_type": "stream",
     "text": [
      "$36952.63 , $39604.00\n"
     ]
    }
   ],
   "source": [
    "# Set monthly household income\n",
    "monthly_income = 12000\n",
    "# Consolidate financial assets data\n",
    "total_crypto_value = my_btc_value+my_eth_value\n",
    "total_stock_value = my_spy_value+my_agg_value\n",
    "total_crypto_value_fmt = f\"${total_crypto_value:0.2f}\"\n",
    "total_stock_value_fmt = f\"${total_stock_value:0.2f}\"\n",
    "print(total_crypto_value_fmt,\",\",total_stock_value_fmt)"
   ]
  },
  {
   "cell_type": "code",
   "execution_count": 74,
   "metadata": {},
   "outputs": [
    {
     "data": {
      "text/html": [
       "<div>\n",
       "<style scoped>\n",
       "    .dataframe tbody tr th:only-of-type {\n",
       "        vertical-align: middle;\n",
       "    }\n",
       "\n",
       "    .dataframe tbody tr th {\n",
       "        vertical-align: top;\n",
       "    }\n",
       "\n",
       "    .dataframe thead th {\n",
       "        text-align: right;\n",
       "    }\n",
       "</style>\n",
       "<table border=\"1\" class=\"dataframe\">\n",
       "  <thead>\n",
       "    <tr style=\"text-align: right;\">\n",
       "      <th></th>\n",
       "      <th>Amount</th>\n",
       "    </tr>\n",
       "  </thead>\n",
       "  <tbody>\n",
       "    <tr>\n",
       "      <th>Crypto</th>\n",
       "      <td>35953.72</td>\n",
       "    </tr>\n",
       "    <tr>\n",
       "      <th>Stock/Bond</th>\n",
       "      <td>39604.00</td>\n",
       "    </tr>\n",
       "  </tbody>\n",
       "</table>\n",
       "</div>"
      ],
      "text/plain": [
       "              Amount\n",
       "Crypto      35953.72\n",
       "Stock/Bond  39604.00"
      ]
     },
     "metadata": {},
     "output_type": "display_data"
    }
   ],
   "source": [
    "savings_data = [35953.72, 39604.00]\n",
    "# Create savings DataFrame\n",
    "savings_df = pd.DataFrame(savings_data, columns=[\"Amount\"], index=[\"Crypto\",\"Stock/Bond\"])\n",
    "# Display savings DataFrame\n",
    "display(savings_df)"
   ]
  },
  {
   "cell_type": "code",
   "execution_count": 40,
   "metadata": {},
   "outputs": [
    {
     "data": {
      "text/plain": [
       "<AxesSubplot:title={'center':'Total Savings Chart'}, ylabel='Amount'>"
      ]
     },
     "execution_count": 40,
     "metadata": {},
     "output_type": "execute_result"
    },
    {
     "data": {
      "image/png": "[encoded data removed]",
      "text/plain": [
       "<Figure size 1440x720 with 1 Axes>"
      ]
     },
     "metadata": {},
     "output_type": "display_data"
    }
   ],
   "source": [
    "# Plot savings pie chart\n",
    "savings_df.plot(kind='pie', y='Amount', title='Total Savings Chart', figsize=(20,10))"
   ]
  },
  {
   "cell_type": "code",
   "execution_count": 42,
   "metadata": {},
   "outputs": [
    {
     "name": "stdout",
     "output_type": "stream",
     "text": [
      "36000\n"
     ]
    }
   ],
   "source": [
    "# Set ideal emergency fund\n",
    "emergency_fund = monthly_income * 3\n",
    "print(emergency_fund)"
   ]
  },
  {
   "cell_type": "code",
   "execution_count": 77,
   "metadata": {},
   "outputs": [
    {
     "name": "stdout",
     "output_type": "stream",
     "text": [
      "Congrats! You have a healthy savings account, therefore you have enough money for an emergency fund! \n"
     ]
    }
   ],
   "source": [
    "# creat a value (x) to determine the number of dollars a the member is from reaching their goal should emergency_fund < monthly_imonthly_income\n",
    "# Calculate total amount of savings\n",
    "x = emergency_fund - total_crypto_value + total_stock_value\n",
    "\n",
    "if emergency_fund > monthly_income:\n",
    "  print(\"Congrats! You have a healthy savings account, therefore you have enough money for an emergency fund!\")\n",
    "elif emergency_fund == monthly_income:\n",
    "  print(\"Congrats! You have saved one month's worth of your income. This is a very important financial goal to have reached. Well done!\")\n",
    "elif emergency_fund < monthly_income:\n",
    "  print(\"You are\", f\"${x:0.2f}\" ,\"away from your goal\")\n"
   ]
  },
  {
   "cell_type": "markdown",
   "metadata": {},
   "source": [
    "## Part 2 - Retirement Planning\n",
    "\n",
    "### Monte Carlo Simulation"
   ]
  },
  {
   "cell_type": "code",
   "execution_count": 85,
   "metadata": {},
   "outputs": [],
   "source": [
    "# Set start and end dates of three years back from today.\n",
    "# Sample results may vary from the solution based on the time frame chosen\n",
    "start_date = pd.Timestamp('2019-07-01', tz='America/New_York').isoformat()\n",
    "end_date = pd.Timestamp('2022-07-01', tz='America/New_York').isoformat()"
   ]
  },
  {
   "cell_type": "code",
   "execution_count": 86,
   "metadata": {},
   "outputs": [
    {
     "data": {
      "text/html": [
       "<div>\n",
       "<style scoped>\n",
       "    .dataframe tbody tr th:only-of-type {\n",
       "        vertical-align: middle;\n",
       "    }\n",
       "\n",
       "    .dataframe tbody tr th {\n",
       "        vertical-align: top;\n",
       "    }\n",
       "\n",
       "    .dataframe thead th {\n",
       "        text-align: right;\n",
       "    }\n",
       "</style>\n",
       "<table border=\"1\" class=\"dataframe\">\n",
       "  <thead>\n",
       "    <tr style=\"text-align: right;\">\n",
       "      <th></th>\n",
       "      <th>open</th>\n",
       "      <th>high</th>\n",
       "      <th>low</th>\n",
       "      <th>close</th>\n",
       "      <th>volume</th>\n",
       "      <th>trade_count</th>\n",
       "      <th>vwap</th>\n",
       "      <th>symbol</th>\n",
       "    </tr>\n",
       "    <tr>\n",
       "      <th>timestamp</th>\n",
       "      <th></th>\n",
       "      <th></th>\n",
       "      <th></th>\n",
       "      <th></th>\n",
       "      <th></th>\n",
       "      <th></th>\n",
       "      <th></th>\n",
       "      <th></th>\n",
       "    </tr>\n",
       "  </thead>\n",
       "  <tbody>\n",
       "    <tr>\n",
       "      <th>2019-07-01 04:00:00+00:00</th>\n",
       "      <td>111.25</td>\n",
       "      <td>111.2700</td>\n",
       "      <td>111.010</td>\n",
       "      <td>111.18</td>\n",
       "      <td>4211486</td>\n",
       "      <td>17456</td>\n",
       "      <td>111.152261</td>\n",
       "      <td>AGG</td>\n",
       "    </tr>\n",
       "    <tr>\n",
       "      <th>2019-07-02 04:00:00+00:00</th>\n",
       "      <td>111.20</td>\n",
       "      <td>111.4062</td>\n",
       "      <td>111.140</td>\n",
       "      <td>111.38</td>\n",
       "      <td>5765493</td>\n",
       "      <td>14622</td>\n",
       "      <td>111.294019</td>\n",
       "      <td>AGG</td>\n",
       "    </tr>\n",
       "    <tr>\n",
       "      <th>2019-07-03 04:00:00+00:00</th>\n",
       "      <td>111.44</td>\n",
       "      <td>111.6000</td>\n",
       "      <td>111.430</td>\n",
       "      <td>111.56</td>\n",
       "      <td>1324832</td>\n",
       "      <td>6547</td>\n",
       "      <td>111.546814</td>\n",
       "      <td>AGG</td>\n",
       "    </tr>\n",
       "    <tr>\n",
       "      <th>2019-07-05 04:00:00+00:00</th>\n",
       "      <td>111.21</td>\n",
       "      <td>111.2100</td>\n",
       "      <td>110.905</td>\n",
       "      <td>111.09</td>\n",
       "      <td>2461249</td>\n",
       "      <td>10168</td>\n",
       "      <td>111.056293</td>\n",
       "      <td>AGG</td>\n",
       "    </tr>\n",
       "    <tr>\n",
       "      <th>2019-07-08 04:00:00+00:00</th>\n",
       "      <td>111.23</td>\n",
       "      <td>111.2600</td>\n",
       "      <td>111.030</td>\n",
       "      <td>111.03</td>\n",
       "      <td>3041397</td>\n",
       "      <td>14684</td>\n",
       "      <td>111.126862</td>\n",
       "      <td>AGG</td>\n",
       "    </tr>\n",
       "  </tbody>\n",
       "</table>\n",
       "</div>"
      ],
      "text/plain": [
       "                             open      high      low   close   volume  \\\n",
       "timestamp                                                               \n",
       "2019-07-01 04:00:00+00:00  111.25  111.2700  111.010  111.18  4211486   \n",
       "2019-07-02 04:00:00+00:00  111.20  111.4062  111.140  111.38  5765493   \n",
       "2019-07-03 04:00:00+00:00  111.44  111.6000  111.430  111.56  1324832   \n",
       "2019-07-05 04:00:00+00:00  111.21  111.2100  110.905  111.09  2461249   \n",
       "2019-07-08 04:00:00+00:00  111.23  111.2600  111.030  111.03  3041397   \n",
       "\n",
       "                           trade_count        vwap symbol  \n",
       "timestamp                                                  \n",
       "2019-07-01 04:00:00+00:00        17456  111.152261    AGG  \n",
       "2019-07-02 04:00:00+00:00        14622  111.294019    AGG  \n",
       "2019-07-03 04:00:00+00:00         6547  111.546814    AGG  \n",
       "2019-07-05 04:00:00+00:00        10168  111.056293    AGG  \n",
       "2019-07-08 04:00:00+00:00        14684  111.126862    AGG  "
      ]
     },
     "execution_count": 86,
     "metadata": {},
     "output_type": "execute_result"
    }
   ],
   "source": [
    "# Get 5 years' worth of historical data for SPY and AGG\n",
    "# Set the tickers\n",
    "tickers = [\"AGG\", \"SPY\"]\n",
    "\n",
    "# Set timeframe to \"1Day\" for Alpaca API\n",
    "timeframe = \"1Day\"\n",
    "\n",
    "# Get current closing prices for SPY and AGG\n",
    "df_stock_data = api.get_bars(\n",
    "    tickers,\n",
    "    timeframe,\n",
    "    start=start_date,\n",
    "    end=end_date\n",
    ").df\n",
    "df_stock_data.head()"
   ]
  },
  {
   "cell_type": "code",
   "execution_count": 87,
   "metadata": {},
   "outputs": [
    {
     "data": {
      "text/html": [
       "<div>\n",
       "<style scoped>\n",
       "    .dataframe tbody tr th:only-of-type {\n",
       "        vertical-align: middle;\n",
       "    }\n",
       "\n",
       "    .dataframe tbody tr th {\n",
       "        vertical-align: top;\n",
       "    }\n",
       "\n",
       "    .dataframe thead tr th {\n",
       "        text-align: left;\n",
       "    }\n",
       "\n",
       "    .dataframe thead tr:last-of-type th {\n",
       "        text-align: right;\n",
       "    }\n",
       "</style>\n",
       "<table border=\"1\" class=\"dataframe\">\n",
       "  <thead>\n",
       "    <tr>\n",
       "      <th></th>\n",
       "      <th colspan=\"7\" halign=\"left\">AGG</th>\n",
       "      <th colspan=\"7\" halign=\"left\">SPY</th>\n",
       "    </tr>\n",
       "    <tr>\n",
       "      <th></th>\n",
       "      <th>open</th>\n",
       "      <th>high</th>\n",
       "      <th>low</th>\n",
       "      <th>close</th>\n",
       "      <th>volume</th>\n",
       "      <th>trade_count</th>\n",
       "      <th>vwap</th>\n",
       "      <th>open</th>\n",
       "      <th>high</th>\n",
       "      <th>low</th>\n",
       "      <th>close</th>\n",
       "      <th>volume</th>\n",
       "      <th>trade_count</th>\n",
       "      <th>vwap</th>\n",
       "    </tr>\n",
       "    <tr>\n",
       "      <th>timestamp</th>\n",
       "      <th></th>\n",
       "      <th></th>\n",
       "      <th></th>\n",
       "      <th></th>\n",
       "      <th></th>\n",
       "      <th></th>\n",
       "      <th></th>\n",
       "      <th></th>\n",
       "      <th></th>\n",
       "      <th></th>\n",
       "      <th></th>\n",
       "      <th></th>\n",
       "      <th></th>\n",
       "      <th></th>\n",
       "    </tr>\n",
       "  </thead>\n",
       "  <tbody>\n",
       "    <tr>\n",
       "      <th>2019-07-01 04:00:00+00:00</th>\n",
       "      <td>111.25</td>\n",
       "      <td>111.2700</td>\n",
       "      <td>111.010</td>\n",
       "      <td>111.18</td>\n",
       "      <td>4211486</td>\n",
       "      <td>17456</td>\n",
       "      <td>111.152261</td>\n",
       "      <td>296.68</td>\n",
       "      <td>296.9200</td>\n",
       "      <td>294.33</td>\n",
       "      <td>295.66</td>\n",
       "      <td>79264778</td>\n",
       "      <td>313785</td>\n",
       "      <td>295.550961</td>\n",
       "    </tr>\n",
       "    <tr>\n",
       "      <th>2019-07-02 04:00:00+00:00</th>\n",
       "      <td>111.20</td>\n",
       "      <td>111.4062</td>\n",
       "      <td>111.140</td>\n",
       "      <td>111.38</td>\n",
       "      <td>5765493</td>\n",
       "      <td>14622</td>\n",
       "      <td>111.294019</td>\n",
       "      <td>295.59</td>\n",
       "      <td>296.4900</td>\n",
       "      <td>291.21</td>\n",
       "      <td>296.43</td>\n",
       "      <td>62924305</td>\n",
       "      <td>243679</td>\n",
       "      <td>295.690540</td>\n",
       "    </tr>\n",
       "    <tr>\n",
       "      <th>2019-07-03 04:00:00+00:00</th>\n",
       "      <td>111.44</td>\n",
       "      <td>111.6000</td>\n",
       "      <td>111.430</td>\n",
       "      <td>111.56</td>\n",
       "      <td>1324832</td>\n",
       "      <td>6547</td>\n",
       "      <td>111.546814</td>\n",
       "      <td>297.19</td>\n",
       "      <td>298.8200</td>\n",
       "      <td>297.02</td>\n",
       "      <td>298.80</td>\n",
       "      <td>40929346</td>\n",
       "      <td>162068</td>\n",
       "      <td>298.172623</td>\n",
       "    </tr>\n",
       "    <tr>\n",
       "      <th>2019-07-05 04:00:00+00:00</th>\n",
       "      <td>111.21</td>\n",
       "      <td>111.2100</td>\n",
       "      <td>110.905</td>\n",
       "      <td>111.09</td>\n",
       "      <td>2461249</td>\n",
       "      <td>10168</td>\n",
       "      <td>111.056293</td>\n",
       "      <td>297.46</td>\n",
       "      <td>298.6400</td>\n",
       "      <td>296.01</td>\n",
       "      <td>298.46</td>\n",
       "      <td>51977326</td>\n",
       "      <td>229688</td>\n",
       "      <td>297.602081</td>\n",
       "    </tr>\n",
       "    <tr>\n",
       "      <th>2019-07-08 04:00:00+00:00</th>\n",
       "      <td>111.23</td>\n",
       "      <td>111.2600</td>\n",
       "      <td>111.030</td>\n",
       "      <td>111.03</td>\n",
       "      <td>3041397</td>\n",
       "      <td>14684</td>\n",
       "      <td>111.126862</td>\n",
       "      <td>297.01</td>\n",
       "      <td>298.2579</td>\n",
       "      <td>296.22</td>\n",
       "      <td>296.82</td>\n",
       "      <td>45961732</td>\n",
       "      <td>190736</td>\n",
       "      <td>296.885773</td>\n",
       "    </tr>\n",
       "  </tbody>\n",
       "</table>\n",
       "</div>"
      ],
      "text/plain": [
       "                              AGG                                      \\\n",
       "                             open      high      low   close   volume   \n",
       "timestamp                                                               \n",
       "2019-07-01 04:00:00+00:00  111.25  111.2700  111.010  111.18  4211486   \n",
       "2019-07-02 04:00:00+00:00  111.20  111.4062  111.140  111.38  5765493   \n",
       "2019-07-03 04:00:00+00:00  111.44  111.6000  111.430  111.56  1324832   \n",
       "2019-07-05 04:00:00+00:00  111.21  111.2100  110.905  111.09  2461249   \n",
       "2019-07-08 04:00:00+00:00  111.23  111.2600  111.030  111.03  3041397   \n",
       "\n",
       "                                                      SPY                    \\\n",
       "                          trade_count        vwap    open      high     low   \n",
       "timestamp                                                                     \n",
       "2019-07-01 04:00:00+00:00       17456  111.152261  296.68  296.9200  294.33   \n",
       "2019-07-02 04:00:00+00:00       14622  111.294019  295.59  296.4900  291.21   \n",
       "2019-07-03 04:00:00+00:00        6547  111.546814  297.19  298.8200  297.02   \n",
       "2019-07-05 04:00:00+00:00       10168  111.056293  297.46  298.6400  296.01   \n",
       "2019-07-08 04:00:00+00:00       14684  111.126862  297.01  298.2579  296.22   \n",
       "\n",
       "                                                                     \n",
       "                            close    volume trade_count        vwap  \n",
       "timestamp                                                            \n",
       "2019-07-01 04:00:00+00:00  295.66  79264778      313785  295.550961  \n",
       "2019-07-02 04:00:00+00:00  296.43  62924305      243679  295.690540  \n",
       "2019-07-03 04:00:00+00:00  298.80  40929346      162068  298.172623  \n",
       "2019-07-05 04:00:00+00:00  298.46  51977326      229688  297.602081  \n",
       "2019-07-08 04:00:00+00:00  296.82  45961732      190736  296.885773  "
      ]
     },
     "execution_count": 87,
     "metadata": {},
     "output_type": "execute_result"
    }
   ],
   "source": [
    "# Reorganize the DataFrame\n",
    "# Separate ticker data\n",
    "AGG = df_stock_data[df_stock_data['symbol']=='AGG'].drop('symbol', axis=1)\n",
    "SPY = df_stock_data[df_stock_data['symbol']=='SPY'].drop('symbol', axis=1)\n",
    "\n",
    "\n",
    "# Concatenate the ticker DataFrames\n",
    "df_stock_data = pd.concat([AGG,SPY], axis=1, keys=[\"AGG\", \"SPY\"])\n",
    "# Preview DataFrame\n",
    "df_stock_data.head()"
   ]
  },
  {
   "cell_type": "code",
   "execution_count": 95,
   "metadata": {},
   "outputs": [
    {
     "data": {
      "text/html": [
       "<div>\n",
       "<style scoped>\n",
       "    .dataframe tbody tr th:only-of-type {\n",
       "        vertical-align: middle;\n",
       "    }\n",
       "\n",
       "    .dataframe tbody tr th {\n",
       "        vertical-align: top;\n",
       "    }\n",
       "\n",
       "    .dataframe thead tr th {\n",
       "        text-align: left;\n",
       "    }\n",
       "\n",
       "    .dataframe thead tr:last-of-type th {\n",
       "        text-align: right;\n",
       "    }\n",
       "</style>\n",
       "<table border=\"1\" class=\"dataframe\">\n",
       "  <thead>\n",
       "    <tr>\n",
       "      <th></th>\n",
       "      <th colspan=\"8\" halign=\"left\">AGG</th>\n",
       "      <th colspan=\"8\" halign=\"left\">SPY</th>\n",
       "    </tr>\n",
       "    <tr>\n",
       "      <th></th>\n",
       "      <th>open</th>\n",
       "      <th>high</th>\n",
       "      <th>low</th>\n",
       "      <th>close</th>\n",
       "      <th>volume</th>\n",
       "      <th>trade_count</th>\n",
       "      <th>vwap</th>\n",
       "      <th>daily_return</th>\n",
       "      <th>open</th>\n",
       "      <th>high</th>\n",
       "      <th>low</th>\n",
       "      <th>close</th>\n",
       "      <th>volume</th>\n",
       "      <th>trade_count</th>\n",
       "      <th>vwap</th>\n",
       "      <th>daily_return</th>\n",
       "    </tr>\n",
       "    <tr>\n",
       "      <th>timestamp</th>\n",
       "      <th></th>\n",
       "      <th></th>\n",
       "      <th></th>\n",
       "      <th></th>\n",
       "      <th></th>\n",
       "      <th></th>\n",
       "      <th></th>\n",
       "      <th></th>\n",
       "      <th></th>\n",
       "      <th></th>\n",
       "      <th></th>\n",
       "      <th></th>\n",
       "      <th></th>\n",
       "      <th></th>\n",
       "      <th></th>\n",
       "      <th></th>\n",
       "    </tr>\n",
       "  </thead>\n",
       "  <tbody>\n",
       "    <tr>\n",
       "      <th>2019-07-01 04:00:00+00:00</th>\n",
       "      <td>111.25</td>\n",
       "      <td>111.2700</td>\n",
       "      <td>111.010</td>\n",
       "      <td>111.18</td>\n",
       "      <td>4211486</td>\n",
       "      <td>17456</td>\n",
       "      <td>111.152261</td>\n",
       "      <td>NaN</td>\n",
       "      <td>296.68</td>\n",
       "      <td>296.9200</td>\n",
       "      <td>294.33</td>\n",
       "      <td>295.66</td>\n",
       "      <td>79264778</td>\n",
       "      <td>313785</td>\n",
       "      <td>295.550961</td>\n",
       "      <td>NaN</td>\n",
       "    </tr>\n",
       "    <tr>\n",
       "      <th>2019-07-02 04:00:00+00:00</th>\n",
       "      <td>111.20</td>\n",
       "      <td>111.4062</td>\n",
       "      <td>111.140</td>\n",
       "      <td>111.38</td>\n",
       "      <td>5765493</td>\n",
       "      <td>14622</td>\n",
       "      <td>111.294019</td>\n",
       "      <td>0.001799</td>\n",
       "      <td>295.59</td>\n",
       "      <td>296.4900</td>\n",
       "      <td>291.21</td>\n",
       "      <td>296.43</td>\n",
       "      <td>62924305</td>\n",
       "      <td>243679</td>\n",
       "      <td>295.690540</td>\n",
       "      <td>0.002604</td>\n",
       "    </tr>\n",
       "    <tr>\n",
       "      <th>2019-07-03 04:00:00+00:00</th>\n",
       "      <td>111.44</td>\n",
       "      <td>111.6000</td>\n",
       "      <td>111.430</td>\n",
       "      <td>111.56</td>\n",
       "      <td>1324832</td>\n",
       "      <td>6547</td>\n",
       "      <td>111.546814</td>\n",
       "      <td>0.001616</td>\n",
       "      <td>297.19</td>\n",
       "      <td>298.8200</td>\n",
       "      <td>297.02</td>\n",
       "      <td>298.80</td>\n",
       "      <td>40929346</td>\n",
       "      <td>162068</td>\n",
       "      <td>298.172623</td>\n",
       "      <td>0.007995</td>\n",
       "    </tr>\n",
       "    <tr>\n",
       "      <th>2019-07-05 04:00:00+00:00</th>\n",
       "      <td>111.21</td>\n",
       "      <td>111.2100</td>\n",
       "      <td>110.905</td>\n",
       "      <td>111.09</td>\n",
       "      <td>2461249</td>\n",
       "      <td>10168</td>\n",
       "      <td>111.056293</td>\n",
       "      <td>-0.004213</td>\n",
       "      <td>297.46</td>\n",
       "      <td>298.6400</td>\n",
       "      <td>296.01</td>\n",
       "      <td>298.46</td>\n",
       "      <td>51977326</td>\n",
       "      <td>229688</td>\n",
       "      <td>297.602081</td>\n",
       "      <td>-0.001138</td>\n",
       "    </tr>\n",
       "    <tr>\n",
       "      <th>2019-07-08 04:00:00+00:00</th>\n",
       "      <td>111.23</td>\n",
       "      <td>111.2600</td>\n",
       "      <td>111.030</td>\n",
       "      <td>111.03</td>\n",
       "      <td>3041397</td>\n",
       "      <td>14684</td>\n",
       "      <td>111.126862</td>\n",
       "      <td>-0.000540</td>\n",
       "      <td>297.01</td>\n",
       "      <td>298.2579</td>\n",
       "      <td>296.22</td>\n",
       "      <td>296.82</td>\n",
       "      <td>45961732</td>\n",
       "      <td>190736</td>\n",
       "      <td>296.885773</td>\n",
       "      <td>-0.005495</td>\n",
       "    </tr>\n",
       "  </tbody>\n",
       "</table>\n",
       "</div>"
      ],
      "text/plain": [
       "                              AGG                                      \\\n",
       "                             open      high      low   close   volume   \n",
       "timestamp                                                               \n",
       "2019-07-01 04:00:00+00:00  111.25  111.2700  111.010  111.18  4211486   \n",
       "2019-07-02 04:00:00+00:00  111.20  111.4062  111.140  111.38  5765493   \n",
       "2019-07-03 04:00:00+00:00  111.44  111.6000  111.430  111.56  1324832   \n",
       "2019-07-05 04:00:00+00:00  111.21  111.2100  110.905  111.09  2461249   \n",
       "2019-07-08 04:00:00+00:00  111.23  111.2600  111.030  111.03  3041397   \n",
       "\n",
       "                                                                   SPY  \\\n",
       "                          trade_count        vwap daily_return    open   \n",
       "timestamp                                                                \n",
       "2019-07-01 04:00:00+00:00       17456  111.152261          NaN  296.68   \n",
       "2019-07-02 04:00:00+00:00       14622  111.294019     0.001799  295.59   \n",
       "2019-07-03 04:00:00+00:00        6547  111.546814     0.001616  297.19   \n",
       "2019-07-05 04:00:00+00:00       10168  111.056293    -0.004213  297.46   \n",
       "2019-07-08 04:00:00+00:00       14684  111.126862    -0.000540  297.01   \n",
       "\n",
       "                                                                           \\\n",
       "                               high     low   close    volume trade_count   \n",
       "timestamp                                                                   \n",
       "2019-07-01 04:00:00+00:00  296.9200  294.33  295.66  79264778      313785   \n",
       "2019-07-02 04:00:00+00:00  296.4900  291.21  296.43  62924305      243679   \n",
       "2019-07-03 04:00:00+00:00  298.8200  297.02  298.80  40929346      162068   \n",
       "2019-07-05 04:00:00+00:00  298.6400  296.01  298.46  51977326      229688   \n",
       "2019-07-08 04:00:00+00:00  298.2579  296.22  296.82  45961732      190736   \n",
       "\n",
       "                                                    \n",
       "                                 vwap daily_return  \n",
       "timestamp                                           \n",
       "2019-07-01 04:00:00+00:00  295.550961          NaN  \n",
       "2019-07-02 04:00:00+00:00  295.690540     0.002604  \n",
       "2019-07-03 04:00:00+00:00  298.172623     0.007995  \n",
       "2019-07-05 04:00:00+00:00  297.602081    -0.001138  \n",
       "2019-07-08 04:00:00+00:00  296.885773    -0.005495  "
      ]
     },
     "execution_count": 95,
     "metadata": {},
     "output_type": "execute_result"
    }
   ],
   "source": [
    "# Configuring a Monte Carlo simulation to forecast 30 years cumulative returns\n",
    " # Configure a Monte Carlo simulation to forecast five years cumulative returns\n",
    "MC_60_40 = MCSimulation(\n",
    "    portfolio_data = df_stock_data,\n",
    "    weights = [.4, .6],\n",
    "    num_simulation = 500,\n",
    "    num_trading_days = 252*30\n",
    ")\n",
    "\n",
    "# Print the simulation input data\n",
    "MC_60_40.portfolio_data.head()"
   ]
  },
  {
   "cell_type": "code",
   "execution_count": 96,
   "metadata": {},
   "outputs": [
    {
     "name": "stdout",
     "output_type": "stream",
     "text": [
      "Running Monte Carlo simulation number 0.\n",
      "Running Monte Carlo simulation number 10.\n",
      "Running Monte Carlo simulation number 20.\n",
      "Running Monte Carlo simulation number 30.\n",
      "Running Monte Carlo simulation number 40.\n",
      "Running Monte Carlo simulation number 50.\n",
      "Running Monte Carlo simulation number 60.\n",
      "Running Monte Carlo simulation number 70.\n",
      "Running Monte Carlo simulation number 80.\n",
      "Running Monte Carlo simulation number 90.\n",
      "Running Monte Carlo simulation number 100.\n"
     ]
    },
    {
     "name": "stderr",
     "output_type": "stream",
     "text": [
      "/Users/shayleaschreurs/Desktop/mod_5/Starter_Code/MCForecastTools.py:117: PerformanceWarning: DataFrame is highly fragmented.  This is usually the result of calling `frame.insert` many times, which has poor performance.  Consider joining all columns at once using pd.concat(axis=1) instead.  To get a de-fragmented frame, use `newframe = frame.copy()`\n",
      "  portfolio_cumulative_returns[n] = (1 + sim_df.fillna(0)).cumprod()\n"
     ]
    },
    {
     "name": "stdout",
     "output_type": "stream",
     "text": [
      "Running Monte Carlo simulation number 110.\n",
      "Running Monte Carlo simulation number 120.\n",
      "Running Monte Carlo simulation number 130.\n",
      "Running Monte Carlo simulation number 140.\n",
      "Running Monte Carlo simulation number 150.\n",
      "Running Monte Carlo simulation number 160.\n",
      "Running Monte Carlo simulation number 170.\n",
      "Running Monte Carlo simulation number 180.\n",
      "Running Monte Carlo simulation number 190.\n",
      "Running Monte Carlo simulation number 200.\n",
      "Running Monte Carlo simulation number 210.\n",
      "Running Monte Carlo simulation number 220.\n",
      "Running Monte Carlo simulation number 230.\n",
      "Running Monte Carlo simulation number 240.\n",
      "Running Monte Carlo simulation number 250.\n",
      "Running Monte Carlo simulation number 260.\n",
      "Running Monte Carlo simulation number 270.\n",
      "Running Monte Carlo simulation number 280.\n",
      "Running Monte Carlo simulation number 290.\n",
      "Running Monte Carlo simulation number 300.\n",
      "Running Monte Carlo simulation number 310.\n",
      "Running Monte Carlo simulation number 320.\n",
      "Running Monte Carlo simulation number 330.\n",
      "Running Monte Carlo simulation number 340.\n",
      "Running Monte Carlo simulation number 350.\n",
      "Running Monte Carlo simulation number 360.\n",
      "Running Monte Carlo simulation number 370.\n",
      "Running Monte Carlo simulation number 380.\n",
      "Running Monte Carlo simulation number 390.\n",
      "Running Monte Carlo simulation number 400.\n",
      "Running Monte Carlo simulation number 410.\n",
      "Running Monte Carlo simulation number 420.\n",
      "Running Monte Carlo simulation number 430.\n",
      "Running Monte Carlo simulation number 440.\n",
      "Running Monte Carlo simulation number 450.\n",
      "Running Monte Carlo simulation number 460.\n",
      "Running Monte Carlo simulation number 470.\n",
      "Running Monte Carlo simulation number 480.\n",
      "Running Monte Carlo simulation number 490.\n"
     ]
    },
    {
     "data": {
      "text/html": [
       "<div>\n",
       "<style scoped>\n",
       "    .dataframe tbody tr th:only-of-type {\n",
       "        vertical-align: middle;\n",
       "    }\n",
       "\n",
       "    .dataframe tbody tr th {\n",
       "        vertical-align: top;\n",
       "    }\n",
       "\n",
       "    .dataframe thead th {\n",
       "        text-align: right;\n",
       "    }\n",
       "</style>\n",
       "<table border=\"1\" class=\"dataframe\">\n",
       "  <thead>\n",
       "    <tr style=\"text-align: right;\">\n",
       "      <th></th>\n",
       "      <th>0</th>\n",
       "      <th>1</th>\n",
       "      <th>2</th>\n",
       "      <th>3</th>\n",
       "      <th>4</th>\n",
       "      <th>5</th>\n",
       "      <th>6</th>\n",
       "      <th>7</th>\n",
       "      <th>8</th>\n",
       "      <th>9</th>\n",
       "      <th>...</th>\n",
       "      <th>490</th>\n",
       "      <th>491</th>\n",
       "      <th>492</th>\n",
       "      <th>493</th>\n",
       "      <th>494</th>\n",
       "      <th>495</th>\n",
       "      <th>496</th>\n",
       "      <th>497</th>\n",
       "      <th>498</th>\n",
       "      <th>499</th>\n",
       "    </tr>\n",
       "  </thead>\n",
       "  <tbody>\n",
       "    <tr>\n",
       "      <th>0</th>\n",
       "      <td>1.000000</td>\n",
       "      <td>1.000000</td>\n",
       "      <td>1.000000</td>\n",
       "      <td>1.000000</td>\n",
       "      <td>1.000000</td>\n",
       "      <td>1.000000</td>\n",
       "      <td>1.000000</td>\n",
       "      <td>1.000000</td>\n",
       "      <td>1.000000</td>\n",
       "      <td>1.000000</td>\n",
       "      <td>...</td>\n",
       "      <td>1.000000</td>\n",
       "      <td>1.000000</td>\n",
       "      <td>1.000000</td>\n",
       "      <td>1.000000</td>\n",
       "      <td>1.000000</td>\n",
       "      <td>1.000000</td>\n",
       "      <td>1.000000</td>\n",
       "      <td>1.000000</td>\n",
       "      <td>1.000000</td>\n",
       "      <td>1.000000</td>\n",
       "    </tr>\n",
       "    <tr>\n",
       "      <th>1</th>\n",
       "      <td>1.017625</td>\n",
       "      <td>1.010865</td>\n",
       "      <td>0.994922</td>\n",
       "      <td>1.007929</td>\n",
       "      <td>1.005700</td>\n",
       "      <td>0.993705</td>\n",
       "      <td>1.019692</td>\n",
       "      <td>1.011586</td>\n",
       "      <td>0.998132</td>\n",
       "      <td>1.007082</td>\n",
       "      <td>...</td>\n",
       "      <td>1.002012</td>\n",
       "      <td>0.996370</td>\n",
       "      <td>1.005262</td>\n",
       "      <td>1.005092</td>\n",
       "      <td>0.994888</td>\n",
       "      <td>0.996662</td>\n",
       "      <td>0.998648</td>\n",
       "      <td>0.986760</td>\n",
       "      <td>1.012347</td>\n",
       "      <td>0.990657</td>\n",
       "    </tr>\n",
       "    <tr>\n",
       "      <th>2</th>\n",
       "      <td>1.010712</td>\n",
       "      <td>1.005994</td>\n",
       "      <td>1.017633</td>\n",
       "      <td>0.994899</td>\n",
       "      <td>1.019018</td>\n",
       "      <td>1.007978</td>\n",
       "      <td>1.010579</td>\n",
       "      <td>1.021236</td>\n",
       "      <td>0.994223</td>\n",
       "      <td>1.005239</td>\n",
       "      <td>...</td>\n",
       "      <td>1.002423</td>\n",
       "      <td>0.985239</td>\n",
       "      <td>0.998254</td>\n",
       "      <td>1.001382</td>\n",
       "      <td>0.984261</td>\n",
       "      <td>0.994366</td>\n",
       "      <td>1.002041</td>\n",
       "      <td>1.002731</td>\n",
       "      <td>1.005964</td>\n",
       "      <td>0.993793</td>\n",
       "    </tr>\n",
       "    <tr>\n",
       "      <th>3</th>\n",
       "      <td>1.003143</td>\n",
       "      <td>1.018533</td>\n",
       "      <td>1.024115</td>\n",
       "      <td>0.997345</td>\n",
       "      <td>1.030358</td>\n",
       "      <td>1.003159</td>\n",
       "      <td>1.003315</td>\n",
       "      <td>1.032829</td>\n",
       "      <td>0.992960</td>\n",
       "      <td>1.000148</td>\n",
       "      <td>...</td>\n",
       "      <td>0.988833</td>\n",
       "      <td>0.975148</td>\n",
       "      <td>0.985035</td>\n",
       "      <td>1.004771</td>\n",
       "      <td>0.971573</td>\n",
       "      <td>0.994273</td>\n",
       "      <td>1.011499</td>\n",
       "      <td>1.003891</td>\n",
       "      <td>1.001986</td>\n",
       "      <td>0.977836</td>\n",
       "    </tr>\n",
       "    <tr>\n",
       "      <th>4</th>\n",
       "      <td>0.998097</td>\n",
       "      <td>1.026009</td>\n",
       "      <td>1.038579</td>\n",
       "      <td>1.005734</td>\n",
       "      <td>1.026721</td>\n",
       "      <td>1.008228</td>\n",
       "      <td>1.003141</td>\n",
       "      <td>1.024612</td>\n",
       "      <td>0.988022</td>\n",
       "      <td>1.004758</td>\n",
       "      <td>...</td>\n",
       "      <td>0.988344</td>\n",
       "      <td>0.965744</td>\n",
       "      <td>0.992217</td>\n",
       "      <td>1.023883</td>\n",
       "      <td>0.975384</td>\n",
       "      <td>0.979429</td>\n",
       "      <td>1.015383</td>\n",
       "      <td>1.002964</td>\n",
       "      <td>1.009384</td>\n",
       "      <td>0.990525</td>\n",
       "    </tr>\n",
       "    <tr>\n",
       "      <th>...</th>\n",
       "      <td>...</td>\n",
       "      <td>...</td>\n",
       "      <td>...</td>\n",
       "      <td>...</td>\n",
       "      <td>...</td>\n",
       "      <td>...</td>\n",
       "      <td>...</td>\n",
       "      <td>...</td>\n",
       "      <td>...</td>\n",
       "      <td>...</td>\n",
       "      <td>...</td>\n",
       "      <td>...</td>\n",
       "      <td>...</td>\n",
       "      <td>...</td>\n",
       "      <td>...</td>\n",
       "      <td>...</td>\n",
       "      <td>...</td>\n",
       "      <td>...</td>\n",
       "      <td>...</td>\n",
       "      <td>...</td>\n",
       "      <td>...</td>\n",
       "    </tr>\n",
       "    <tr>\n",
       "      <th>7556</th>\n",
       "      <td>7.047160</td>\n",
       "      <td>5.732567</td>\n",
       "      <td>6.732495</td>\n",
       "      <td>7.104901</td>\n",
       "      <td>6.750275</td>\n",
       "      <td>5.542911</td>\n",
       "      <td>1.800494</td>\n",
       "      <td>3.049725</td>\n",
       "      <td>6.426425</td>\n",
       "      <td>3.479199</td>\n",
       "      <td>...</td>\n",
       "      <td>4.428554</td>\n",
       "      <td>10.726761</td>\n",
       "      <td>31.699043</td>\n",
       "      <td>5.073832</td>\n",
       "      <td>1.062994</td>\n",
       "      <td>6.850117</td>\n",
       "      <td>4.256469</td>\n",
       "      <td>4.314161</td>\n",
       "      <td>7.634117</td>\n",
       "      <td>7.009228</td>\n",
       "    </tr>\n",
       "    <tr>\n",
       "      <th>7557</th>\n",
       "      <td>7.050044</td>\n",
       "      <td>5.701132</td>\n",
       "      <td>6.829206</td>\n",
       "      <td>7.123715</td>\n",
       "      <td>6.666958</td>\n",
       "      <td>5.523248</td>\n",
       "      <td>1.816295</td>\n",
       "      <td>3.019939</td>\n",
       "      <td>6.487499</td>\n",
       "      <td>3.491521</td>\n",
       "      <td>...</td>\n",
       "      <td>4.433802</td>\n",
       "      <td>10.779962</td>\n",
       "      <td>32.004452</td>\n",
       "      <td>5.065368</td>\n",
       "      <td>1.063143</td>\n",
       "      <td>6.906952</td>\n",
       "      <td>4.258253</td>\n",
       "      <td>4.284307</td>\n",
       "      <td>7.594051</td>\n",
       "      <td>7.145748</td>\n",
       "    </tr>\n",
       "    <tr>\n",
       "      <th>7558</th>\n",
       "      <td>7.152559</td>\n",
       "      <td>5.708073</td>\n",
       "      <td>6.813553</td>\n",
       "      <td>7.131540</td>\n",
       "      <td>6.632104</td>\n",
       "      <td>5.551565</td>\n",
       "      <td>1.821335</td>\n",
       "      <td>3.035994</td>\n",
       "      <td>6.483062</td>\n",
       "      <td>3.525975</td>\n",
       "      <td>...</td>\n",
       "      <td>4.447242</td>\n",
       "      <td>10.887708</td>\n",
       "      <td>31.986029</td>\n",
       "      <td>5.128659</td>\n",
       "      <td>1.051893</td>\n",
       "      <td>6.756782</td>\n",
       "      <td>4.219848</td>\n",
       "      <td>4.250172</td>\n",
       "      <td>7.588820</td>\n",
       "      <td>7.096809</td>\n",
       "    </tr>\n",
       "    <tr>\n",
       "      <th>7559</th>\n",
       "      <td>7.195586</td>\n",
       "      <td>5.816834</td>\n",
       "      <td>6.835879</td>\n",
       "      <td>7.160430</td>\n",
       "      <td>6.592760</td>\n",
       "      <td>5.487742</td>\n",
       "      <td>1.803603</td>\n",
       "      <td>3.034891</td>\n",
       "      <td>6.430286</td>\n",
       "      <td>3.525513</td>\n",
       "      <td>...</td>\n",
       "      <td>4.466758</td>\n",
       "      <td>10.968786</td>\n",
       "      <td>31.782271</td>\n",
       "      <td>5.141062</td>\n",
       "      <td>1.050265</td>\n",
       "      <td>6.721128</td>\n",
       "      <td>4.225792</td>\n",
       "      <td>4.259953</td>\n",
       "      <td>7.551132</td>\n",
       "      <td>7.121288</td>\n",
       "    </tr>\n",
       "    <tr>\n",
       "      <th>7560</th>\n",
       "      <td>7.253628</td>\n",
       "      <td>5.797948</td>\n",
       "      <td>6.796943</td>\n",
       "      <td>7.168832</td>\n",
       "      <td>6.659995</td>\n",
       "      <td>5.518609</td>\n",
       "      <td>1.792974</td>\n",
       "      <td>2.996533</td>\n",
       "      <td>6.298940</td>\n",
       "      <td>3.533534</td>\n",
       "      <td>...</td>\n",
       "      <td>4.513712</td>\n",
       "      <td>11.029036</td>\n",
       "      <td>32.089620</td>\n",
       "      <td>5.135972</td>\n",
       "      <td>1.043376</td>\n",
       "      <td>6.726048</td>\n",
       "      <td>4.212080</td>\n",
       "      <td>4.234687</td>\n",
       "      <td>7.487657</td>\n",
       "      <td>7.064560</td>\n",
       "    </tr>\n",
       "  </tbody>\n",
       "</table>\n",
       "<p>7561 rows × 500 columns</p>\n",
       "</div>"
      ],
      "text/plain": [
       "           0         1         2         3         4         5         6    \\\n",
       "0     1.000000  1.000000  1.000000  1.000000  1.000000  1.000000  1.000000   \n",
       "1     1.017625  1.010865  0.994922  1.007929  1.005700  0.993705  1.019692   \n",
       "2     1.010712  1.005994  1.017633  0.994899  1.019018  1.007978  1.010579   \n",
       "3     1.003143  1.018533  1.024115  0.997345  1.030358  1.003159  1.003315   \n",
       "4     0.998097  1.026009  1.038579  1.005734  1.026721  1.008228  1.003141   \n",
       "...        ...       ...       ...       ...       ...       ...       ...   \n",
       "7556  7.047160  5.732567  6.732495  7.104901  6.750275  5.542911  1.800494   \n",
       "7557  7.050044  5.701132  6.829206  7.123715  6.666958  5.523248  1.816295   \n",
       "7558  7.152559  5.708073  6.813553  7.131540  6.632104  5.551565  1.821335   \n",
       "7559  7.195586  5.816834  6.835879  7.160430  6.592760  5.487742  1.803603   \n",
       "7560  7.253628  5.797948  6.796943  7.168832  6.659995  5.518609  1.792974   \n",
       "\n",
       "           7         8         9    ...       490        491        492  \\\n",
       "0     1.000000  1.000000  1.000000  ...  1.000000   1.000000   1.000000   \n",
       "1     1.011586  0.998132  1.007082  ...  1.002012   0.996370   1.005262   \n",
       "2     1.021236  0.994223  1.005239  ...  1.002423   0.985239   0.998254   \n",
       "3     1.032829  0.992960  1.000148  ...  0.988833   0.975148   0.985035   \n",
       "4     1.024612  0.988022  1.004758  ...  0.988344   0.965744   0.992217   \n",
       "...        ...       ...       ...  ...       ...        ...        ...   \n",
       "7556  3.049725  6.426425  3.479199  ...  4.428554  10.726761  31.699043   \n",
       "7557  3.019939  6.487499  3.491521  ...  4.433802  10.779962  32.004452   \n",
       "7558  3.035994  6.483062  3.525975  ...  4.447242  10.887708  31.986029   \n",
       "7559  3.034891  6.430286  3.525513  ...  4.466758  10.968786  31.782271   \n",
       "7560  2.996533  6.298940  3.533534  ...  4.513712  11.029036  32.089620   \n",
       "\n",
       "           493       494       495       496       497       498       499  \n",
       "0     1.000000  1.000000  1.000000  1.000000  1.000000  1.000000  1.000000  \n",
       "1     1.005092  0.994888  0.996662  0.998648  0.986760  1.012347  0.990657  \n",
       "2     1.001382  0.984261  0.994366  1.002041  1.002731  1.005964  0.993793  \n",
       "3     1.004771  0.971573  0.994273  1.011499  1.003891  1.001986  0.977836  \n",
       "4     1.023883  0.975384  0.979429  1.015383  1.002964  1.009384  0.990525  \n",
       "...        ...       ...       ...       ...       ...       ...       ...  \n",
       "7556  5.073832  1.062994  6.850117  4.256469  4.314161  7.634117  7.009228  \n",
       "7557  5.065368  1.063143  6.906952  4.258253  4.284307  7.594051  7.145748  \n",
       "7558  5.128659  1.051893  6.756782  4.219848  4.250172  7.588820  7.096809  \n",
       "7559  5.141062  1.050265  6.721128  4.225792  4.259953  7.551132  7.121288  \n",
       "7560  5.135972  1.043376  6.726048  4.212080  4.234687  7.487657  7.064560  \n",
       "\n",
       "[7561 rows x 500 columns]"
      ]
     },
     "execution_count": 96,
     "metadata": {},
     "output_type": "execute_result"
    }
   ],
   "source": [
    "# Running a Monte Carlo simulation to forecast 30 years cumulative returns\n",
    "MC_60_40.calc_cumulative_return()"
   ]
  },
  {
   "cell_type": "code",
   "execution_count": 97,
   "metadata": {},
   "outputs": [
    {
     "data": {
      "image/png": "[encoded data removed]",
      "text/plain": [
       "<Figure size 432x288 with 1 Axes>"
      ]
     },
     "metadata": {
      "needs_background": "light"
     },
     "output_type": "display_data"
    }
   ],
   "source": [
    "# Plot simulation outcomes\n",
    "line_plot = MC_60_40.plot_simulation()"
   ]
  },
  {
   "cell_type": "code",
   "execution_count": 98,
   "metadata": {},
   "outputs": [
    {
     "data": {
      "image/png": "[encoded data removed]",
      "text/plain": [
       "<Figure size 432x288 with 1 Axes>"
      ]
     },
     "metadata": {
      "needs_background": "light"
     },
     "output_type": "display_data"
    }
   ],
   "source": [
    "# Plot probability distribution and confidence intervals\n",
    "dist_plot = MC_60_40.plot_distribution()"
   ]
  },
  {
   "cell_type": "markdown",
   "metadata": {},
   "source": [
    "### Retirement Analysis"
   ]
  },
  {
   "cell_type": "code",
   "execution_count": 99,
   "metadata": {},
   "outputs": [
    {
     "name": "stdout",
     "output_type": "stream",
     "text": [
      "count           500.000000\n",
      "mean              5.559495\n",
      "std               5.177852\n",
      "min               0.456155\n",
      "25%               2.352585\n",
      "50%               4.061943\n",
      "75%               6.849396\n",
      "max              39.760958\n",
      "95% CI Lower      0.816663\n",
      "95% CI Upper     20.474517\n",
      "Name: 7560, dtype: float64\n"
     ]
    }
   ],
   "source": [
    "# Fetch summary statistics from the Monte Carlo simulation results\n",
    "even_tbl = MC_60_40.summarize_cumulative_return()\n",
    "# Print summary statistics\n",
    "print(even_tbl)"
   ]
  },
  {
   "cell_type": "markdown",
   "metadata": {},
   "source": [
    "### Calculate the expected portfolio return at the `95%` lower and upper confidence intervals based on a `$20,000` initial investment."
   ]
  },
  {
   "cell_type": "code",
   "execution_count": null,
   "metadata": {},
   "outputs": [],
   "source": [
    "# Set initial investment\n",
    "initial_investment = 20000\n",
    "\n",
    "# Use the lower and upper `95%` confidence intervals to calculate the range of the possible outcomes of our $20,000\n",
    "# YOUR CODE HERE!\n",
    "\n",
    "# Print results\n",
    "print(f\"There is a 95% chance that an initial investment of ${initial_investment} in the portfolio\"\n",
    "      f\" over the next 30 years will end within in the range of\"\n",
    "      f\" ${ci_lower} and ${ci_upper}\")"
   ]
  },
  {
   "cell_type": "markdown",
   "metadata": {},
   "source": [
    "### Calculate the expected portfolio return at the `95%` lower and upper confidence intervals based on a `50%` increase in the initial investment."
   ]
  },
  {
   "cell_type": "code",
   "execution_count": null,
   "metadata": {},
   "outputs": [],
   "source": [
    "# Set initial investment\n",
    "initial_investment = 20000 * 1.5\n",
    "\n",
    "# Use the lower and upper `95%` confidence intervals to calculate the range of the possible outcomes of our $30,000\n",
    "# YOUR CODE HERE!\n",
    "\n",
    "# Print results\n",
    "print(f\"There is a 95% chance that an initial investment of ${initial_investment} in the portfolio\"\n",
    "      f\" over the next 30 years will end within in the range of\"\n",
    "      f\" ${ci_lower} and ${ci_upper}\")"
   ]
  },
  {
   "cell_type": "markdown",
   "metadata": {},
   "source": [
    "## Optional Challenge - Early Retirement\n",
    "\n",
    "\n",
    "### Five Years Retirement Option"
   ]
  },
  {
   "cell_type": "code",
   "execution_count": null,
   "metadata": {},
   "outputs": [],
   "source": [
    "# Configuring a Monte Carlo simulation to forecast 5 years cumulative returns\n",
    "# YOUR CODE HERE!"
   ]
  },
  {
   "cell_type": "code",
   "execution_count": null,
   "metadata": {},
   "outputs": [],
   "source": [
    "# Running a Monte Carlo simulation to forecast 5 years cumulative returns\n",
    "# YOUR CODE HERE!"
   ]
  },
  {
   "cell_type": "code",
   "execution_count": null,
   "metadata": {},
   "outputs": [],
   "source": [
    "# Plot simulation outcomes\n",
    "# YOUR CODE HERE!"
   ]
  },
  {
   "cell_type": "code",
   "execution_count": null,
   "metadata": {},
   "outputs": [],
   "source": [
    "# Plot probability distribution and confidence intervals\n",
    "# YOUR CODE HERE!"
   ]
  },
  {
   "cell_type": "code",
   "execution_count": null,
   "metadata": {},
   "outputs": [],
   "source": [
    "# Fetch summary statistics from the Monte Carlo simulation results\n",
    "# YOUR CODE HERE!\n",
    "\n",
    "# Print summary statistics\n",
    "# YOUR CODE HERE!"
   ]
  },
  {
   "cell_type": "code",
   "execution_count": null,
   "metadata": {},
   "outputs": [],
   "source": [
    "# Set initial investment\n",
    "# YOUR CODE HERE!\n",
    "\n",
    "# Use the lower and upper `95%` confidence intervals to calculate the range of the possible outcomes of our $60,000\n",
    "# YOUR CODE HERE!\n",
    "\n",
    "# Print results\n",
    "print(f\"There is a 95% chance that an initial investment of ${initial_investment} in the portfolio\"\n",
    "      f\" over the next 5 years will end within in the range of\"\n",
    "      f\" ${ci_lower_five} and ${ci_upper_five}\")"
   ]
  },
  {
   "cell_type": "markdown",
   "metadata": {},
   "source": [
    "### Ten Years Retirement Option"
   ]
  },
  {
   "cell_type": "code",
   "execution_count": null,
   "metadata": {},
   "outputs": [],
   "source": [
    "# Configuring a Monte Carlo simulation to forecast 10 years cumulative returns\n",
    "# YOUR CODE HERE!"
   ]
  },
  {
   "cell_type": "code",
   "execution_count": null,
   "metadata": {},
   "outputs": [],
   "source": [
    "# Running a Monte Carlo simulation to forecast 10 years cumulative returns\n",
    "# YOUR CODE HERE!"
   ]
  },
  {
   "cell_type": "code",
   "execution_count": null,
   "metadata": {},
   "outputs": [],
   "source": [
    "# Plot simulation outcomes\n",
    "# YOUR CODE HERE!"
   ]
  },
  {
   "cell_type": "code",
   "execution_count": null,
   "metadata": {},
   "outputs": [],
   "source": [
    "# Plot probability distribution and confidence intervals\n",
    "# YOUR CODE HERE!"
   ]
  },
  {
   "cell_type": "code",
   "execution_count": null,
   "metadata": {},
   "outputs": [],
   "source": [
    "# Fetch summary statistics from the Monte Carlo simulation results\n",
    "# YOUR CODE HERE!\n",
    "\n",
    "# Print summary statistics\n",
    "# YOUR CODE HERE!"
   ]
  },
  {
   "cell_type": "code",
   "execution_count": null,
   "metadata": {},
   "outputs": [],
   "source": [
    "# Set initial investment\n",
    "# YOUR CODE HERE!\n",
    "\n",
    "# Use the lower and upper `95%` confidence intervals to calculate the range of the possible outcomes of our $60,000\n",
    "# YOUR CODE HERE!\n",
    "\n",
    "# Print results\n",
    "print(f\"There is a 95% chance that an initial investment of ${initial_investment} in the portfolio\"\n",
    "      f\" over the next 10 years will end within in the range of\"\n",
    "      f\" ${ci_lower_ten} and ${ci_upper_ten}\")"
   ]
  },
  {
   "cell_type": "code",
   "execution_count": null,
   "metadata": {},
   "outputs": [],
   "source": []
  }
 ],
 "metadata": {
  "kernelspec": {
   "display_name": "Python 3 (ipykernel)",
   "language": "python",
   "name": "python3"
  },
  "language_info": {
   "codemirror_mode": {
    "name": "ipython",
    "version": 3
   },
   "file_extension": ".py",
   "mimetype": "text/x-python",
   "name": "python",
   "nbconvert_exporter": "python",
   "pygments_lexer": "ipython3",
   "version": "3.7.13"
  },
  "nteract": {
   "version": "0.28.0"
  }
 },
 "nbformat": 4,
 "nbformat_minor": 4
}
